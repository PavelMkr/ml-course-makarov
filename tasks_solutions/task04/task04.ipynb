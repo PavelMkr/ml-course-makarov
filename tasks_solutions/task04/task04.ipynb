{
 "cells": [
  {
   "cell_type": "code",
   "execution_count": 99,
   "metadata": {},
   "outputs": [],
   "source": [
    "import numpy as np \n",
    "import pandas as pd\n",
    "import matplotlib.pyplot as plt\n",
    "%matplotlib inline\n",
    "import seaborn as sns\n",
    "\n",
    "# устанавливаем точность чисел с плавающей точкой\n",
    "%precision %.4f\n",
    "\n",
    "import warnings\n",
    "warnings.filterwarnings('ignore')  # отключаем предупреждения"
   ]
  },
  {
   "cell_type": "markdown",
   "metadata": {},
   "source": [
    "- [ ] Найдите данные, на которых можно решить задачу **Multiclass classification** (классификация с более чем двумя классами). В крайнем случае преобразуйте данные, предназначенные для другой задачи."
   ]
  },
  {
   "cell_type": "code",
   "execution_count": 100,
   "metadata": {},
   "outputs": [
    {
     "data": {
      "text/html": [
       "<div>\n",
       "<style scoped>\n",
       "    .dataframe tbody tr th:only-of-type {\n",
       "        vertical-align: middle;\n",
       "    }\n",
       "\n",
       "    .dataframe tbody tr th {\n",
       "        vertical-align: top;\n",
       "    }\n",
       "\n",
       "    .dataframe thead th {\n",
       "        text-align: right;\n",
       "    }\n",
       "</style>\n",
       "<table border=\"1\" class=\"dataframe\">\n",
       "  <thead>\n",
       "    <tr style=\"text-align: right;\">\n",
       "      <th></th>\n",
       "      <th>Age</th>\n",
       "      <th>Gender</th>\n",
       "      <th>Weight_in_kg</th>\n",
       "      <th>Height_in_m</th>\n",
       "      <th>Max_BPM</th>\n",
       "      <th>Avg_BPM</th>\n",
       "      <th>Resting_BPM</th>\n",
       "      <th>Session_Duration_in_hours</th>\n",
       "      <th>Calories_Burned</th>\n",
       "      <th>Workout_Type</th>\n",
       "      <th>Fat_Percentage</th>\n",
       "      <th>Water_Intake_in_liters</th>\n",
       "      <th>Workout_Frequency_in_days_on_week</th>\n",
       "      <th>Experience_Level</th>\n",
       "      <th>BMI</th>\n",
       "    </tr>\n",
       "  </thead>\n",
       "  <tbody>\n",
       "    <tr>\n",
       "      <th>0</th>\n",
       "      <td>56</td>\n",
       "      <td>Male</td>\n",
       "      <td>88.3</td>\n",
       "      <td>1.71</td>\n",
       "      <td>180</td>\n",
       "      <td>157</td>\n",
       "      <td>60</td>\n",
       "      <td>1.69</td>\n",
       "      <td>1313.0</td>\n",
       "      <td>Yoga</td>\n",
       "      <td>12.6</td>\n",
       "      <td>3.5</td>\n",
       "      <td>4</td>\n",
       "      <td>3</td>\n",
       "      <td>30.20</td>\n",
       "    </tr>\n",
       "    <tr>\n",
       "      <th>1</th>\n",
       "      <td>46</td>\n",
       "      <td>Female</td>\n",
       "      <td>74.9</td>\n",
       "      <td>1.53</td>\n",
       "      <td>179</td>\n",
       "      <td>151</td>\n",
       "      <td>66</td>\n",
       "      <td>1.30</td>\n",
       "      <td>883.0</td>\n",
       "      <td>HIIT</td>\n",
       "      <td>33.9</td>\n",
       "      <td>2.1</td>\n",
       "      <td>4</td>\n",
       "      <td>2</td>\n",
       "      <td>32.00</td>\n",
       "    </tr>\n",
       "    <tr>\n",
       "      <th>2</th>\n",
       "      <td>32</td>\n",
       "      <td>Female</td>\n",
       "      <td>68.1</td>\n",
       "      <td>1.66</td>\n",
       "      <td>167</td>\n",
       "      <td>122</td>\n",
       "      <td>54</td>\n",
       "      <td>1.11</td>\n",
       "      <td>677.0</td>\n",
       "      <td>Cardio</td>\n",
       "      <td>33.4</td>\n",
       "      <td>2.3</td>\n",
       "      <td>4</td>\n",
       "      <td>2</td>\n",
       "      <td>24.71</td>\n",
       "    </tr>\n",
       "    <tr>\n",
       "      <th>3</th>\n",
       "      <td>25</td>\n",
       "      <td>Male</td>\n",
       "      <td>53.2</td>\n",
       "      <td>1.70</td>\n",
       "      <td>190</td>\n",
       "      <td>164</td>\n",
       "      <td>56</td>\n",
       "      <td>0.59</td>\n",
       "      <td>532.0</td>\n",
       "      <td>Strength</td>\n",
       "      <td>28.8</td>\n",
       "      <td>2.1</td>\n",
       "      <td>3</td>\n",
       "      <td>1</td>\n",
       "      <td>18.41</td>\n",
       "    </tr>\n",
       "    <tr>\n",
       "      <th>4</th>\n",
       "      <td>38</td>\n",
       "      <td>Male</td>\n",
       "      <td>46.1</td>\n",
       "      <td>1.79</td>\n",
       "      <td>188</td>\n",
       "      <td>158</td>\n",
       "      <td>68</td>\n",
       "      <td>0.64</td>\n",
       "      <td>556.0</td>\n",
       "      <td>Strength</td>\n",
       "      <td>29.2</td>\n",
       "      <td>2.8</td>\n",
       "      <td>3</td>\n",
       "      <td>1</td>\n",
       "      <td>14.39</td>\n",
       "    </tr>\n",
       "  </tbody>\n",
       "</table>\n",
       "</div>"
      ],
      "text/plain": [
       "   Age  Gender  Weight_in_kg  Height_in_m  Max_BPM  Avg_BPM  Resting_BPM  \\\n",
       "0   56    Male          88.3         1.71      180      157           60   \n",
       "1   46  Female          74.9         1.53      179      151           66   \n",
       "2   32  Female          68.1         1.66      167      122           54   \n",
       "3   25    Male          53.2         1.70      190      164           56   \n",
       "4   38    Male          46.1         1.79      188      158           68   \n",
       "\n",
       "   Session_Duration_in_hours  Calories_Burned Workout_Type  Fat_Percentage  \\\n",
       "0                       1.69           1313.0         Yoga            12.6   \n",
       "1                       1.30            883.0         HIIT            33.9   \n",
       "2                       1.11            677.0       Cardio            33.4   \n",
       "3                       0.59            532.0     Strength            28.8   \n",
       "4                       0.64            556.0     Strength            29.2   \n",
       "\n",
       "   Water_Intake_in_liters  Workout_Frequency_in_days_on_week  \\\n",
       "0                     3.5                                  4   \n",
       "1                     2.1                                  4   \n",
       "2                     2.3                                  4   \n",
       "3                     2.1                                  3   \n",
       "4                     2.8                                  3   \n",
       "\n",
       "   Experience_Level    BMI  \n",
       "0                 3  30.20  \n",
       "1                 2  32.00  \n",
       "2                 2  24.71  \n",
       "3                 1  18.41  \n",
       "4                 1  14.39  "
      ]
     },
     "execution_count": 100,
     "metadata": {},
     "output_type": "execute_result"
    }
   ],
   "source": [
    "from sklearn.model_selection import train_test_split\n",
    "from sklearn.preprocessing import LabelEncoder, StandardScaler\n",
    "from sklearn.multiclass import OneVsRestClassifier, OneVsOneClassifier, OutputCodeClassifier\n",
    "from sklearn.linear_model import LogisticRegression\n",
    "from sklearn.svm import SVC\n",
    "from sklearn.neighbors import KNeighborsClassifier\n",
    "from sklearn.naive_bayes import GaussianNB\n",
    "import time\n",
    "\n",
    "# Загрузка данных\n",
    "data = pd.read_csv('gym_members_exercise_tracking.csv') # https://www.kaggle.com/datasets/valakhorasani/gym-members-exercise-dataset\n",
    "\n",
    "# Первичный просмотр данных\n",
    "data.head()"
   ]
  },
  {
   "cell_type": "markdown",
   "metadata": {},
   "source": [
    "- [ ] Выполнить разведочный анализ (**EDA**), использовать визуализацию, сделать выводы, которые могут быть полезны при дальнейшем решении задачи.\n",
    "- [ ] При необходимости выполнить полезные преобразования данных (например, трансформировать категариальные признаки в количественные), убрать ненужные признаки, создать новые (**Feature Engineering**)."
   ]
  },
  {
   "cell_type": "code",
   "execution_count": 101,
   "metadata": {},
   "outputs": [
    {
     "name": "stdout",
     "output_type": "stream",
     "text": [
      "<class 'pandas.core.frame.DataFrame'>\n",
      "RangeIndex: 973 entries, 0 to 972\n",
      "Data columns (total 15 columns):\n",
      " #   Column                             Non-Null Count  Dtype  \n",
      "---  ------                             --------------  -----  \n",
      " 0   Age                                973 non-null    int64  \n",
      " 1   Gender                             973 non-null    object \n",
      " 2   Weight_in_kg                       973 non-null    float64\n",
      " 3   Height_in_m                        973 non-null    float64\n",
      " 4   Max_BPM                            973 non-null    int64  \n",
      " 5   Avg_BPM                            973 non-null    int64  \n",
      " 6   Resting_BPM                        973 non-null    int64  \n",
      " 7   Session_Duration_in_hours          973 non-null    float64\n",
      " 8   Calories_Burned                    973 non-null    float64\n",
      " 9   Workout_Type                       973 non-null    object \n",
      " 10  Fat_Percentage                     973 non-null    float64\n",
      " 11  Water_Intake_in_liters             973 non-null    float64\n",
      " 12  Workout_Frequency_in_days_on_week  973 non-null    int64  \n",
      " 13  Experience_Level                   973 non-null    int64  \n",
      " 14  BMI                                973 non-null    float64\n",
      "dtypes: float64(7), int64(6), object(2)\n",
      "memory usage: 114.2+ KB\n"
     ]
    }
   ],
   "source": [
    "data.info()"
   ]
  },
  {
   "cell_type": "code",
   "execution_count": 102,
   "metadata": {},
   "outputs": [
    {
     "data": {
      "text/plain": [
       "array([4, 3, 5, 2])"
      ]
     },
     "execution_count": 102,
     "metadata": {},
     "output_type": "execute_result"
    }
   ],
   "source": [
    "data.Workout_Frequency_in_days_on_week.unique() # Признак категориальный"
   ]
  },
  {
   "cell_type": "code",
   "execution_count": 103,
   "metadata": {},
   "outputs": [
    {
     "data": {
      "image/png": "[encoded data removed]",
      "text/plain": [
       "<Figure size 1000x500 with 1 Axes>"
      ]
     },
     "metadata": {},
     "output_type": "display_data"
    },
    {
     "data": {
      "image/png": "[encoded data removed]",
      "text/plain": [
       "<Figure size 1000x500 with 1 Axes>"
      ]
     },
     "metadata": {},
     "output_type": "display_data"
    },
    {
     "data": {
      "image/png": "[encoded data removed]",
      "text/plain": [
       "<Figure size 1000x500 with 1 Axes>"
      ]
     },
     "metadata": {},
     "output_type": "display_data"
    }
   ],
   "source": [
    "# Статистика и распределения категориальных признаков\n",
    "categorical_cols = ['Gender','Workout_Type','Workout_Frequency_in_days_on_week']\n",
    "\n",
    "# Построение гистограмм для категориальных признаков\n",
    "for col in categorical_cols:\n",
    "    plt.figure(figsize=(10, 5))\n",
    "    sns.countplot(x=col, data=data)\n",
    "    plt.title(f'Distribution of {col}')\n",
    "    plt.show()\n"
   ]
  },
  {
   "cell_type": "code",
   "execution_count": 104,
   "metadata": {},
   "outputs": [],
   "source": [
    "# Преобразование категориальных признаков в числовые\n",
    "le = LabelEncoder()\n",
    "for col in categorical_cols:\n",
    "    data[col] = le.fit_transform(data[col].astype(str))\n",
    "\n",
    "# Разделение признаков и целевых меток\n",
    "y = data['Workout_Type']\n",
    "X = data.drop('Workout_Type', axis=1)\n",
    "\n",
    "# Разделение на обучающую и тестовую выборки\n",
    "X_train, X_test, y_train, y_test = train_test_split(X, y, test_size=0.3, random_state=99)\n"
   ]
  },
  {
   "cell_type": "code",
   "execution_count": 105,
   "metadata": {},
   "outputs": [
    {
     "data": {
      "text/html": [
       "<div>\n",
       "<style scoped>\n",
       "    .dataframe tbody tr th:only-of-type {\n",
       "        vertical-align: middle;\n",
       "    }\n",
       "\n",
       "    .dataframe tbody tr th {\n",
       "        vertical-align: top;\n",
       "    }\n",
       "\n",
       "    .dataframe thead th {\n",
       "        text-align: right;\n",
       "    }\n",
       "</style>\n",
       "<table border=\"1\" class=\"dataframe\">\n",
       "  <thead>\n",
       "    <tr style=\"text-align: right;\">\n",
       "      <th></th>\n",
       "      <th>Age</th>\n",
       "      <th>Gender</th>\n",
       "      <th>Weight_in_kg</th>\n",
       "      <th>Height_in_m</th>\n",
       "      <th>Max_BPM</th>\n",
       "      <th>Avg_BPM</th>\n",
       "      <th>Resting_BPM</th>\n",
       "      <th>Session_Duration_in_hours</th>\n",
       "      <th>Calories_Burned</th>\n",
       "      <th>Workout_Type</th>\n",
       "      <th>Fat_Percentage</th>\n",
       "      <th>Water_Intake_in_liters</th>\n",
       "      <th>Workout_Frequency_in_days_on_week</th>\n",
       "      <th>Experience_Level</th>\n",
       "      <th>BMI</th>\n",
       "    </tr>\n",
       "  </thead>\n",
       "  <tbody>\n",
       "    <tr>\n",
       "      <th>0</th>\n",
       "      <td>56</td>\n",
       "      <td>1</td>\n",
       "      <td>88.3</td>\n",
       "      <td>1.71</td>\n",
       "      <td>180</td>\n",
       "      <td>157</td>\n",
       "      <td>60</td>\n",
       "      <td>1.69</td>\n",
       "      <td>1313.0</td>\n",
       "      <td>3</td>\n",
       "      <td>12.6</td>\n",
       "      <td>3.5</td>\n",
       "      <td>2</td>\n",
       "      <td>3</td>\n",
       "      <td>30.20</td>\n",
       "    </tr>\n",
       "    <tr>\n",
       "      <th>1</th>\n",
       "      <td>46</td>\n",
       "      <td>0</td>\n",
       "      <td>74.9</td>\n",
       "      <td>1.53</td>\n",
       "      <td>179</td>\n",
       "      <td>151</td>\n",
       "      <td>66</td>\n",
       "      <td>1.30</td>\n",
       "      <td>883.0</td>\n",
       "      <td>1</td>\n",
       "      <td>33.9</td>\n",
       "      <td>2.1</td>\n",
       "      <td>2</td>\n",
       "      <td>2</td>\n",
       "      <td>32.00</td>\n",
       "    </tr>\n",
       "    <tr>\n",
       "      <th>2</th>\n",
       "      <td>32</td>\n",
       "      <td>0</td>\n",
       "      <td>68.1</td>\n",
       "      <td>1.66</td>\n",
       "      <td>167</td>\n",
       "      <td>122</td>\n",
       "      <td>54</td>\n",
       "      <td>1.11</td>\n",
       "      <td>677.0</td>\n",
       "      <td>0</td>\n",
       "      <td>33.4</td>\n",
       "      <td>2.3</td>\n",
       "      <td>2</td>\n",
       "      <td>2</td>\n",
       "      <td>24.71</td>\n",
       "    </tr>\n",
       "    <tr>\n",
       "      <th>3</th>\n",
       "      <td>25</td>\n",
       "      <td>1</td>\n",
       "      <td>53.2</td>\n",
       "      <td>1.70</td>\n",
       "      <td>190</td>\n",
       "      <td>164</td>\n",
       "      <td>56</td>\n",
       "      <td>0.59</td>\n",
       "      <td>532.0</td>\n",
       "      <td>2</td>\n",
       "      <td>28.8</td>\n",
       "      <td>2.1</td>\n",
       "      <td>1</td>\n",
       "      <td>1</td>\n",
       "      <td>18.41</td>\n",
       "    </tr>\n",
       "    <tr>\n",
       "      <th>4</th>\n",
       "      <td>38</td>\n",
       "      <td>1</td>\n",
       "      <td>46.1</td>\n",
       "      <td>1.79</td>\n",
       "      <td>188</td>\n",
       "      <td>158</td>\n",
       "      <td>68</td>\n",
       "      <td>0.64</td>\n",
       "      <td>556.0</td>\n",
       "      <td>2</td>\n",
       "      <td>29.2</td>\n",
       "      <td>2.8</td>\n",
       "      <td>1</td>\n",
       "      <td>1</td>\n",
       "      <td>14.39</td>\n",
       "    </tr>\n",
       "  </tbody>\n",
       "</table>\n",
       "</div>"
      ],
      "text/plain": [
       "   Age  Gender  Weight_in_kg  Height_in_m  Max_BPM  Avg_BPM  Resting_BPM  \\\n",
       "0   56       1          88.3         1.71      180      157           60   \n",
       "1   46       0          74.9         1.53      179      151           66   \n",
       "2   32       0          68.1         1.66      167      122           54   \n",
       "3   25       1          53.2         1.70      190      164           56   \n",
       "4   38       1          46.1         1.79      188      158           68   \n",
       "\n",
       "   Session_Duration_in_hours  Calories_Burned  Workout_Type  Fat_Percentage  \\\n",
       "0                       1.69           1313.0             3            12.6   \n",
       "1                       1.30            883.0             1            33.9   \n",
       "2                       1.11            677.0             0            33.4   \n",
       "3                       0.59            532.0             2            28.8   \n",
       "4                       0.64            556.0             2            29.2   \n",
       "\n",
       "   Water_Intake_in_liters  Workout_Frequency_in_days_on_week  \\\n",
       "0                     3.5                                  2   \n",
       "1                     2.1                                  2   \n",
       "2                     2.3                                  2   \n",
       "3                     2.1                                  1   \n",
       "4                     2.8                                  1   \n",
       "\n",
       "   Experience_Level    BMI  \n",
       "0                 3  30.20  \n",
       "1                 2  32.00  \n",
       "2                 2  24.71  \n",
       "3                 1  18.41  \n",
       "4                 1  14.39  "
      ]
     },
     "execution_count": 105,
     "metadata": {},
     "output_type": "execute_result"
    }
   ],
   "source": [
    "data.head()"
   ]
  },
  {
   "cell_type": "markdown",
   "metadata": {},
   "source": [
    "- [ ] Используя стратегии **OneVsRest**, **OneVsOne** и **OutputCode** решите задачу **Multiclass classification** для каждого из пройденных базового алгоритма классификации (**logistic regression, svm, knn, naive bayes, decision tree**). При обучении использовать **подбор гиперпараметров**, **кросс-валидацию** и при необходимости **масштабирование данных**, добиться наилучшего качества предсказания.\n",
    "- [ ] Замерить время обучения каждой модели для каждой стратегии.\n",
    "- [ ] Для оценки качества моделей используйте метрику **AUC-ROC**.\n",
    "- [ ] Сравнить время обучения и качество всех моделей и всех стратегий. Сделать выводы."
   ]
  },
  {
   "cell_type": "code",
   "execution_count": 106,
   "metadata": {},
   "outputs": [],
   "source": [
    "# Масштабирование признаков\n",
    "scaler = StandardScaler()\n",
    "X_train_scaled = scaler.fit_transform(X_train)\n",
    "X_test_scaled = scaler.transform(X_test)"
   ]
  },
  {
   "cell_type": "code",
   "execution_count": 107,
   "metadata": {},
   "outputs": [],
   "source": [
    "data.fillna(data.mean(), inplace=True)  # Для числовых данных\n",
    "data.dropna(inplace=True)  # Удалить строки с NaN"
   ]
  },
  {
   "cell_type": "code",
   "execution_count": 108,
   "metadata": {},
   "outputs": [
    {
     "name": "stdout",
     "output_type": "stream",
     "text": [
      "Стратегия: OneVsRest\n",
      "Logistic Regression - Score: 0.490, Время обучения: 0.03 секунд\n",
      "SVM - Score: 0.477, Время обучения: 0.31 секунд\n",
      "KNN - Score: 0.521, Время обучения: 0.02 секунд\n",
      "Naive Bayes - Score: 0.490, Время обучения: 0.01 секунд\n",
      "Стратегия: OneVsOne\n",
      "Logistic Regression - Score: 0.250, Время обучения: 0.02 секунд\n",
      "SVM - Score: 0.277, Время обучения: 0.16 секунд\n",
      "KNN - Score: 0.288, Время обучения: 0.09 секунд\n",
      "Naive Bayes - Score: 0.223, Время обучения: 0.01 секунд\n",
      "Стратегия: OutputCode\n",
      "Logistic Regression - Score: 0.236, Время обучения: 0.02 секунд\n",
      "SVM - Score: 0.257, Время обучения: 0.44 секунд\n",
      "KNN - Score: 0.281, Время обучения: 0.02 секунд\n",
      "Naive Bayes - Score: 0.281, Время обучения: 0.01 секунд\n"
     ]
    }
   ],
   "source": [
    "from sklearn.metrics import roc_auc_score, accuracy_score\n",
    "\n",
    "# Список базовых алгоритмов\n",
    "models = {\n",
    "    'Logistic Regression': LogisticRegression(),\n",
    "    'SVM': SVC(probability=True),\n",
    "    'KNN': KNeighborsClassifier(),\n",
    "    'Naive Bayes': GaussianNB(),\n",
    "}\n",
    "\n",
    "# Стратегии\n",
    "strategies = {\n",
    "    'OneVsRest': OneVsRestClassifier,\n",
    "    'OneVsOne': OneVsOneClassifier,\n",
    "    'OutputCode': OutputCodeClassifier\n",
    "}\n",
    "\n",
    "results = {}\n",
    "\n",
    "# Обучение моделей с разными стратегиями\n",
    "for strategy_name, strategy in strategies.items():\n",
    "    print(f\"Стратегия: {strategy_name}\")\n",
    "    for model_name, model in models.items():\n",
    "        start_time = time.time()\n",
    "\n",
    "        # Создание и обучение модели\n",
    "        clf = strategy(model)\n",
    "        clf.fit(X_train_scaled, y_train)\n",
    "        \n",
    "        # Оценка модели\n",
    "        try:\n",
    "            # Если стратегия поддерживает predict_proba\n",
    "            y_pred_proba = clf.predict_proba(X_test_scaled)\n",
    "            auc = roc_auc_score(y_test, y_pred_proba, multi_class='ovr')\n",
    "        except AttributeError:\n",
    "            # Для OneVsOneClassifier или если predict_proba недоступен\n",
    "            y_pred = clf.predict(X_test_scaled)\n",
    "            auc = accuracy_score(y_test, y_pred)  # Используем accuracy как альтернативу AUC-ROC\n",
    "\n",
    "        end_time = time.time()\n",
    "\n",
    "        # Сохранение результатов\n",
    "        results[(strategy_name, model_name)] = {\n",
    "            'Score': auc,\n",
    "            'Training Time': end_time - start_time\n",
    "        }\n",
    "\n",
    "        # Вывод отчета классификации\n",
    "        print(f\"{model_name} - Score: {auc:.3f}, Время обучения: {end_time - start_time:.2f} секунд\")\n"
   ]
  },
  {
   "cell_type": "markdown",
   "metadata": {},
   "source": [
    "# Вывод:\n",
    "Самая эффективная классификация по всем стратегиям: **KNN**\n",
    "## OnevsRest:\n",
    "Самая эффективная классификация: **KNN**\n",
    "\n",
    "Самая неэффективная классификация по времени: **SVM**\n",
    "\n",
    "Самая неэффективная классификация по результатам: **SVM**\n",
    "## OnevsOne:\n",
    "Самая эффективная классификация: **KNN**\n",
    "\n",
    "Самая неэффективная классификация по времени: **SVM**\n",
    "\n",
    "Самая неэффективная классификация по результатам: **Naive Bayes**\n",
    "## OutputCode\n",
    "Самая эффективная классификация: **KNN**\n",
    "\n",
    "Самая неэффективная классификация по времени: **SVM**\n",
    "\n",
    "Самая неэффективная классификация по результатам: **Logistic Regression**"
   ]
  },
  {
   "cell_type": "markdown",
   "metadata": {},
   "source": [
    "- [ ] * (**+3 балла**) Повторить все пункты для задачи **Multilabel classification** (классификация с несколькими целевыми признаками, например, бинарными). В качестве стратегий попробовать **MultiOutputClassifier** и **ClassifierChain**."
   ]
  },
  {
   "cell_type": "code",
   "execution_count": 109,
   "metadata": {},
   "outputs": [],
   "source": [
    "data = pd.read_csv('gym_members_exercise_tracking.csv')\n",
    "categorical_cols = ['Gender','Workout_Type','Workout_Frequency_in_days_on_week']\n",
    "data = pd.get_dummies(data, columns=categorical_cols, drop_first=True)\n",
    "\n",
    "y_multilabel = data[['Gender_Male', 'Workout_Type_Yoga', 'Workout_Type_Strength']]\n",
    "X = data.drop(['Gender_Male', 'Workout_Type_Yoga', 'Workout_Type_Strength'], axis=1)\n",
    "X_train, X_test, y_train, y_test = train_test_split(X, y_multilabel, test_size=0.2, random_state=99)"
   ]
  },
  {
   "cell_type": "code",
   "execution_count": 110,
   "metadata": {},
   "outputs": [
    {
     "name": "stdout",
     "output_type": "stream",
     "text": [
      "MultiOutputClassifier: AUC-ROC = 0.62\n",
      "ClassifierChain: AUC-ROC = 0.62\n"
     ]
    }
   ],
   "source": [
    "from sklearn.multioutput import MultiOutputClassifier, ClassifierChain\n",
    "from sklearn.metrics import roc_auc_score\n",
    "\n",
    "# Определение моделей для многометочной классификации\n",
    "multi_label_models = {\n",
    "    'MultiOutputClassifier': MultiOutputClassifier(LogisticRegression()),\n",
    "    'ClassifierChain': ClassifierChain(LogisticRegression())\n",
    "}\n",
    "\n",
    "# Обучение и оценка моделей\n",
    "for model_name, model in multi_label_models.items():\n",
    "    model.fit(X_train, y_train)\n",
    "    y_pred = model.predict(X_test)\n",
    "    \n",
    "    # Оценка качества с AUC-ROC\n",
    "    auc_score = roc_auc_score(y_test, y_pred, average='macro')\n",
    "    print(f\"{model_name}: AUC-ROC = {auc_score:.2f}\")"
   ]
  },
  {
   "cell_type": "markdown",
   "metadata": {},
   "source": [
    "- [ ] * (**+2 балла**) Повторить все пункты для задачи **Multioutput Regression** (регрессия с несколькими целевыми признаками, вещественными). Модель попробовать как минимум одну: **Ridge**. В качестве стратегий попробовать **MultiOutputRegressor** и **RegressorChain**. В качестве метрики использовать **R2**."
   ]
  },
  {
   "cell_type": "code",
   "execution_count": 111,
   "metadata": {},
   "outputs": [],
   "source": [
    "data = pd.read_csv('gym_members_exercise_tracking.csv')\n",
    "categorical_cols = ['Gender','Workout_Type','Workout_Frequency_in_days_on_week']\n",
    "data = pd.get_dummies(data, columns=categorical_cols, drop_first=True)\n",
    "data.head()\n",
    "y_multioutput = data[['Gender_Male', 'Workout_Type_Yoga', 'Workout_Type_Strength']]\n",
    "X_train, X_test, y_train, y_test = train_test_split(X, y_multioutput, test_size=0.2, random_state=99)\n"
   ]
  },
  {
   "cell_type": "code",
   "execution_count": 112,
   "metadata": {},
   "outputs": [
    {
     "name": "stdout",
     "output_type": "stream",
     "text": [
      "MultiOutputRegressor: R2 = 0.29\n",
      "RegressorChain: R2 = 0.29\n"
     ]
    }
   ],
   "source": [
    "from sklearn.multioutput import MultiOutputRegressor, RegressorChain\n",
    "from sklearn.linear_model import Ridge\n",
    "from sklearn.metrics import r2_score\n",
    "\n",
    "# Определение моделей для многовыходной регрессии\n",
    "multioutput_models = {\n",
    "    'MultiOutputRegressor': MultiOutputRegressor(Ridge()),\n",
    "    'RegressorChain': RegressorChain(Ridge())\n",
    "}\n",
    "\n",
    "# Обучение и оценка моделей\n",
    "for model_name, model in multioutput_models.items():\n",
    "    model.fit(X_train, y_train)\n",
    "    y_pred = model.predict(X_test)\n",
    "    \n",
    "    # Оценка качества с метрикой R2\n",
    "    r2 = r2_score(y_test, y_pred, multioutput='uniform_average')\n",
    "    print(f\"{model_name}: R2 = {r2:.2f}\")\n"
   ]
  }
 ],
 "metadata": {
  "kernelspec": {
   "display_name": "Python 3",
   "language": "python",
   "name": "python3"
  },
  "language_info": {
   "codemirror_mode": {
    "name": "ipython",
    "version": 3
   },
   "file_extension": ".py",
   "mimetype": "text/x-python",
   "name": "python",
   "nbconvert_exporter": "python",
   "pygments_lexer": "ipython3",
   "version": "3.12.3"
  }
 },
 "nbformat": 4,
 "nbformat_minor": 2
}
